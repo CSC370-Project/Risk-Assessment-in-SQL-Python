{
 "cells": [
  {
   "cell_type": "markdown",
   "metadata": {},
   "source": [
    "# API"
   ]
  },
  {
   "cell_type": "markdown",
   "metadata": {},
   "source": [
    "- Backend: built in FLASK\n",
    "- Only\n",
    "- OO modelling; flask\n",
    "- Easier to host database\n",
    "- Postman\n",
    "- DACPAC for mariadb\n",
    "- Netlify"
   ]
  },
  {
   "cell_type": "markdown",
   "metadata": {},
   "source": [
    "- ECS"
   ]
  },
  {
   "cell_type": "markdown",
   "metadata": {},
   "source": [
    "ninadtongay99@gmail.com\n",
    "ninadtongay99"
   ]
  }
 ],
 "metadata": {
  "language_info": {
   "name": "python"
  }
 },
 "nbformat": 4,
 "nbformat_minor": 2
}
