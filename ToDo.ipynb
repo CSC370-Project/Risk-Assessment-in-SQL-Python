{
 "cells": [
  {
   "cell_type": "markdown",
   "metadata": {},
   "source": [
    "# ToDo"
   ]
  },
  {
   "cell_type": "markdown",
   "metadata": {},
   "source": [
    "## 1. Get full program working"
   ]
  },
  {
   "cell_type": "markdown",
   "metadata": {},
   "source": [
    "- [x] Program outputs ef to allocation table\n",
    "- [x] Program returns allocation to console, \n",
    "- [ ] optionally as .txt file"
   ]
  },
  {
   "cell_type": "markdown",
   "metadata": {},
   "source": [
    "## 2. Connect program to backend"
   ]
  },
  {
   "cell_type": "markdown",
   "metadata": {},
   "source": [
    "- [ ] Get program running on AWS\n",
    "- [ ] Add security features (reference class notes)\n",
    "- [ ] Add multi-user features\n",
    "  - [ ] UUID!!!"
   ]
  },
  {
   "cell_type": "markdown",
   "metadata": {},
   "source": [
    "## Etc."
   ]
  },
  {
   "cell_type": "markdown",
   "metadata": {},
   "source": [
    "- [ ] Add note to ReadMe: If program not working due to yfinance, likely need to switch VPN locn (repeated )\n",
    "- [ ] Add help/quit/restart functionality\n",
    "\n"
   ]
  }
 ],
 "metadata": {
  "language_info": {
   "name": "python"
  }
 },
 "nbformat": 4,
 "nbformat_minor": 2
}
