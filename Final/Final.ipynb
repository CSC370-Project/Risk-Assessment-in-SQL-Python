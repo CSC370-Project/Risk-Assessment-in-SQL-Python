{
 "cells": [
  {
   "cell_type": "markdown",
   "metadata": {},
   "source": [
    "# TERM PROJECT PRESENTATION"
   ]
  },
  {
   "cell_type": "markdown",
   "metadata": {},
   "source": [
    "- Sandbox user!!! (Exposed user sandboxed thus cannot change anything within the server)"
   ]
  },
  {
   "cell_type": "markdown",
   "metadata": {},
   "source": [
    "- All interactions w db backend, expose API to frontend\n",
    "- Entire data access tier is backend; behind firewalls etc, then THAT code accesses db\n",
    "- So: Change server so that "
   ]
  },
  {
   "cell_type": "markdown",
   "metadata": {},
   "source": [
    "`mysql -h portef-public.c1coy20o478i.us-east-1.rds.amazonaws.com -P 3306 -u admin -p`\n",
    "\n",
    "Password: 12344321"
   ]
  },
  {
   "cell_type": "markdown",
   "metadata": {},
   "source": [
    "Arch: `mysql -h portef-public.c1coy20o478i.us-east-1.rds.amazonaws.com -P 3306 -u admin -p --ssl-ca=/etc/ssl/certs/global-bundle.pem`\n"
   ]
  },
  {
   "cell_type": "markdown",
   "metadata": {},
   "source": [
    "## ToDo"
   ]
  },
  {
   "cell_type": "markdown",
   "metadata": {},
   "source": [
    "### Code\n",
    "- [ ] Get rid of unnecessary view creation for allocation OR use only a view entirely for data\n",
    "- [ ] Add appropriate constraints\n",
    "- [ ] Get rid of session ID table, remake ERD and describe why in presentation\n",
    "- [ ] Add investment amount\n",
    "- [ ] Add expected return (?)\n",
    "- [ ] Test SSL path on school comp ubuntu\n",
    "### Presentation\n",
    "- [ ] Query performance section\n",
    "- [ ] B trees section (?)\n",
    "- [ ] Final project recap, see below"
   ]
  },
  {
   "cell_type": "markdown",
   "metadata": {},
   "source": [
    "### Final presentation outline, brightspace"
   ]
  },
  {
   "cell_type": "markdown",
   "metadata": {},
   "source": [
    "#### Delivery Tips\n",
    "\n",
    "As you develop the progress report component of your video, consider the following tips:\n",
    "\n",
    "    You should recap what were the goals you set and what you determined were the success criteria for those goals\n",
    "    You should provide some evidence that you completed the work and met the success criteria that you set\n",
    "    The semesters are long and modulating. It is anticipated that you won't always meet all of your sprint goals. One criterion is on your explanation for missed goals; try to be technically precise about what challenges you faced that set you back\n",
    "\n",
    "If you find that it was hard to deliver on all of the goals you set for this sprint, you might want to consider adjusting your projected velocity in your planning phase for the next one."
   ]
  },
  {
   "cell_type": "markdown",
   "metadata": {},
   "source": [
    "#### Planning Scope\n",
    "\n",
    "Congratulations on reaching the end of the project! This will be your last submission for the course, but you can probably imagine many things you would do if you had more time. Most software products, including databases, continue to evolve, even after their release. In this case, you can set more aspirational targets for how you would improve this project further if you had another couple weeks or another semester.\n",
    "\n",
    "Here you should reflect on your final deliverable to identify any module-level competencies from this course where, given more time, you could improve the project further. You should also indicate how you would develop your course-level competencies further, e.g., with content from other related courses. Ideally you can describe how to connect this course with the rest of your academics and professional experience and make plans for evaluating personal growth outside of this course's structure."
   ]
  }
 ],
 "metadata": {
  "language_info": {
   "name": "python"
  }
 },
 "nbformat": 4,
 "nbformat_minor": 2
}
