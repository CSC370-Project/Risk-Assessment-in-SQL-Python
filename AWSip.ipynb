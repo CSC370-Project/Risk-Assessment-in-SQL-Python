{
 "cells": [
  {
   "cell_type": "markdown",
   "metadata": {},
   "source": [
    "# AWS setup"
   ]
  },
  {
   "cell_type": "markdown",
   "metadata": {},
   "source": [
    "- EC2: New ubuntu instance\n",
    "- Generated key pair `name.pem ` saved in ~/.ssh, ran `chmod 400` (user read; required for ssh) \n",
    "- Network settings -> source type -> my ip\n",
    "- Select instance once created, find public IPV4 & run:\n",
    "  - `ssh -i name.pem ubuntu@pu.bl.ic.ip.v4`"
   ]
  },
  {
   "cell_type": "markdown",
   "metadata": {},
   "source": [
    "Address for project:\n",
    "`ssh -i csc370.pem ubuntu@54.158.13.48`"
   ]
  },
  {
   "cell_type": "markdown",
   "metadata": {},
   "source": [
    "Local access: (On server; application)\n",
    "`mysql -u root -p -h localhost`"
   ]
  },
  {
   "cell_type": "markdown",
   "metadata": {},
   "source": [
    "Security:\n",
    "- Add rule: TCP, Anywhere - IPV4 (Allows anyone to connect to database, not server)"
   ]
  },
  {
   "cell_type": "markdown",
   "metadata": {},
   "source": [
    "## Terminal"
   ]
  },
  {
   "cell_type": "markdown",
   "metadata": {},
   "source": [
    "- Option 1: `kitty +kitten ssh user@remote-server`\n",
    "- Option 2: `export TERM=xterm-256color`\n"
   ]
  }
 ],
 "metadata": {
  "language_info": {
   "name": "python"
  }
 },
 "nbformat": 4,
 "nbformat_minor": 2
}
