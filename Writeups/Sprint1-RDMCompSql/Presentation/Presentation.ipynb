{
 "cells": [
  {
   "cell_type": "markdown",
   "metadata": {},
   "source": [
    "# Sprint 1 - Presentation"
   ]
  },
  {
   "cell_type": "markdown",
   "metadata": {},
   "source": [
    "### FROM LAST TIME\n",
    "\n",
    "- We wanted, in this sprint, to work on and relate our project to the relational data model and to complex sql queries.\n",
    "- We also wanted to increase the complexity of our code to populate the tables in a more dynamic way."
   ]
  },
  {
   "cell_type": "markdown",
   "metadata": {},
   "source": [
    "## Pt.1: Database changes"
   ]
  },
  {
   "cell_type": "markdown",
   "metadata": {},
   "source": [
    "### Original database design:"
   ]
  },
  {
   "cell_type": "markdown",
   "metadata": {},
   "source": [
    "![ERD](ERD.png)"
   ]
  },
  {
   "cell_type": "markdown",
   "metadata": {},
   "source": [
    "### Updated database design:"
   ]
  },
  {
   "cell_type": "markdown",
   "metadata": {},
   "source": [
    "![ERD2](ERD2.png)"
   ]
  },
  {
   "cell_type": "markdown",
   "metadata": {},
   "source": [
    "## Pt.2: Relational Data Model (BCNF)"
   ]
  },
  {
   "cell_type": "markdown",
   "metadata": {},
   "source": [
    "### Functional Dependencies (FDs)"
   ]
  },
  {
   "cell_type": "markdown",
   "metadata": {},
   "source": [
    "1. **Portfolio Table**:\n",
    "   - `PortfolioID` → `TotalAmt`, `Risk`\n",
    "\n",
    "2. **Allocation Table**:\n",
    "   - `AllocID` → `Ticker`, `Amount`\n",
    "\n",
    "3. **Stocks Table**:\n",
    "   - `StockID` → `Ticker`, `Sector`, `Price`, `SD`, `ERet`\n",
    "\n",
    "4. **History Table**:\n",
    "   - `HistoryID` → `Ticker`, `Date`, `Price`"
   ]
  },
  {
   "cell_type": "markdown",
   "metadata": {},
   "source": [
    "### Keys and Superkeys"
   ]
  },
  {
   "cell_type": "markdown",
   "metadata": {},
   "source": [
    "1. **Portfolio Table**:\n",
    "   - `PortfolioID` is the primary key.\n",
    "   - Superkey: `PortfolioID`\n",
    "   - Key: `PortfolioID`\n",
    "2. **Allocation Table**:\n",
    "   - `AllocID` is the primary key.\n",
    "   - Superkey: `AllocID`\n",
    "   - Key: `AllocID`\n",
    "\n",
    "3. **Stocks Table**:\n",
    "   - `StockID` is the primary key.\n",
    "   - Superkey: `StockID`\n",
    "   - Key: `StockID`\n",
    "\n",
    "4. **History Table**:\n",
    "   - `HistoryID` is the primary key.\n",
    "   - Superkey: `HistoryID`\n",
    "   - Key: `HistoryID`"
   ]
  },
  {
   "cell_type": "markdown",
   "metadata": {},
   "source": [
    "### Closure and Projection"
   ]
  },
  {
   "cell_type": "markdown",
   "metadata": {},
   "source": [
    "1. **Portfolio Table**:\n",
    "   - The closure of `{PortfolioID}` includes `{PortfolioID, TotalAmt, Risk}`.\n",
    "\n",
    "2. **Allocation Table**:\n",
    "   - The closure of `{AllocID}` includes `{AllocID, Ticker, Amount}`.\n",
    "\n",
    "3. **Stocks Table**:\n",
    "   - The closure of `{StockID}` includes `{StockID, Ticker, Sector, Price, SD, ERet}`.\n",
    "\n",
    "4. **History Table**:\n",
    "   - The closure of `{HistoryID}` includes `{HistoryID, Ticker, Date, Price}`."
   ]
  },
  {
   "cell_type": "markdown",
   "metadata": {},
   "source": [
    "### GOALS\n",
    "\n",
    "Last sprint's goals:\n",
    "- Fetch stock info by ticker\n",
    "\n",
    "This sprint's goals:\n",
    "- Continue to implement material covered in class in our own database\n",
    "- Begin using relationship tables to perform increasingly complex join operations\n",
    "- Populate more tables and advancing our python scripts"
   ]
  }
 ],
 "metadata": {
  "kernelspec": {
   "display_name": ".venv",
   "language": "python",
   "name": "python3"
  },
  "language_info": {
   "codemirror_mode": {
    "name": "ipython",
    "version": 3
   },
   "file_extension": ".py",
   "mimetype": "text/x-python",
   "name": "python",
   "nbconvert_exporter": "python",
   "pygments_lexer": "ipython3",
   "version": "3.12.3"
  }
 },
 "nbformat": 4,
 "nbformat_minor": 2
}
