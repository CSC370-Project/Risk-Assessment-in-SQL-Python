{
 "cells": [
  {
   "cell_type": "markdown",
   "metadata": {},
   "source": [
    "# 1 - Relational Data Models"
   ]
  },
  {
   "cell_type": "markdown",
   "metadata": {},
   "source": [
    "## ToDo"
   ]
  },
  {
   "cell_type": "markdown",
   "metadata": {},
   "source": [
    "1. Breakdown into BCNF\n",
    "2. Do op's covered in complex_queries to reformatted database"
   ]
  },
  {
   "cell_type": "markdown",
   "metadata": {},
   "source": [
    "Things to look into (potenitally relevant for sprint)\n",
    "- Closure algo (req'd): Discover FD's ***\n",
    "- Projection algo: 'Projecting' FD's onto subsets of R (used for decomp?)\n",
    "- Decomp algo: Eliminates anomalies/risk of errors when working w db (req'd)\n",
    "- Chase test: Test to ensure lossless decomp.\n",
    "\n",
    "Should do this for all tables in db"
   ]
  },
  {
   "cell_type": "markdown",
   "metadata": {},
   "source": [
    "### 1. BCNF"
   ]
  },
  {
   "cell_type": "markdown",
   "metadata": {},
   "source": [
    "- [x] Functional dependencies\n",
    "- [x] Closure\n",
    "- [x] Projection of functional dependences\n",
    "- [x] Keys, superkeys\n",
    "- [x] BCNF\n",
    "\n",
    "Final steps before project\n",
    "- [ ] Explain why/how table conforms to BCNF (Key: ID's)\n",
    "- [ ] Write script for video pt.1"
   ]
  },
  {
   "cell_type": "markdown",
   "metadata": {},
   "source": [
    "### Functional Dependencies"
   ]
  },
  {
   "cell_type": "markdown",
   "metadata": {},
   "source": [
    "#### For Main Tables:\n",
    "- `SessionID` $\\rightarrow$ `SessionID`\n",
    "- `PortfolioID` $\\rightarrow$ `PortfolioID`, `TotalAmt`, `Risk`\n",
    "- `AllocID` $\\rightarrow$ `AllocID`, `Ticker`, `Amount`\n",
    "- `StockID` $\\rightarrow$ `StockID`, `Ticker`, `Sector`, `Price`, `SD`, `ERet`\n",
    "- `HistoryID` $\\rightarrow$ `HistoryID`, `Ticker`, `Date`, `Price`\n",
    "\n",
    "\n",
    "#### For Relationship Tables\n",
    "- (`PortfolioID`, `StockID`) $\\rightarrow$ `PortfolioID`, `StockID`\n",
    "- (`AllocID`, `StockID`) $\\rightarrow$ `AllocID`, `StockID`\n",
    "- (`StockID`, `HistoryID`) $\\rightarrow$ `StockID`, `HistoryID`\n",
    "- (`SessionID`, `PortfolioID`) $\\rightarrow$ `SessionID`, `PortfolioID`\n",
    "- (`PortfolioID`, `AllocID`) $\\rightarrow$ `PortfolioID`, `AllocID`"
   ]
  },
  {
   "cell_type": "markdown",
   "metadata": {},
   "source": [
    "### Closures"
   ]
  },
  {
   "cell_type": "markdown",
   "metadata": {},
   "source": [
    "1. **Session**:\n",
    "   - Closure: `{SessionID}`\n",
    "\n",
    "2. **Portfolio**:\n",
    "   - Closure: `{PortfolioID, TotalAmt, Risk}`\n",
    "\n",
    "3. **Allocation**:\n",
    "   - Closure: `{AllocID, Ticker, Amount}`\n",
    "\n",
    "4. **Stock**:\n",
    "   - Closure: `{StockID, Ticker, Sector, Price, SD, ERet}`\n",
    "\n",
    "5. **History**:\n",
    "   - Closure: `{HistoryID, Ticker, Date, Price}`"
   ]
  },
  {
   "cell_type": "markdown",
   "metadata": {},
   "source": [
    "### Keys & Superkeys"
   ]
  },
  {
   "cell_type": "markdown",
   "metadata": {},
   "source": [
    "(Unnecessary)"
   ]
  },
  {
   "cell_type": "markdown",
   "metadata": {},
   "source": [
    "1. **Session**:\n",
    "   - Superkey(s): `{SessionID}`\n",
    "   - Key(s): `{SessionID}`\n",
    "\n",
    "2. **Portfolio**:\n",
    "   - Superkey(s): `{PortfolioID}`, `{PortfolioID, TotalAmt}`, `{PortfolioID, Risk}`, `{PortfolioID, TotalAmt, Risk}`\n",
    "   - Key(s): `{PortfolioID}`\n",
    "\n",
    "3. **Allocation**:\n",
    "   - Superkey(s): `{AllocID}`, `{AllocID, Ticker}`, `{AllocID, Amount}`, `{AllocID, Ticker, Amount}`\n",
    "   - Key(s): `{AllocID}`\n",
    "\n",
    "4. **Stock**:\n",
    "   - Superkey(s): `{StockID}`, `{StockID, Ticker}`, `{StockID, Sector}`, `{StockID, Price}`, `{StockID, SD}`, `{StockID, ERet}`, and combinations of these.\n",
    "   - Key(s): `{StockID}`, `{StockID, Ticker}`, `{StockID, Sector}`, `{StockID, Price}`, `{StockID, SD}`, `{StockID, ERet}`\n",
    "\n",
    "5. **History**:\n",
    "   - Superkey(s): `{HistoryID}`, `{HistoryID, Ticker}`, `{HistoryID, Date}`, `{HistoryID, Price}`, `{HistoryID, Ticker, Date}`, `{HistoryID, Ticker, Price}`, `{HistoryID, Date, Price}`, `{HistoryID, Ticker, Date, Price}`\n",
    "   - Key(s): `{HistoryID}`"
   ]
  },
  {
   "cell_type": "markdown",
   "metadata": {},
   "source": [
    "### So: BCNF"
   ]
  },
  {
   "cell_type": "markdown",
   "metadata": {},
   "source": [
    "Based on the provided functional dependencies and corrections, the tables are in Boyce-Codd Normal Form (BCNF). \n",
    "\n",
    "In BCNF, for every non-trivial functional dependency X → Y in a relation, X must be a superkey. From our analysis, we've confirmed that for each non-trivial functional dependency, the determinant (X) is indeed a superkey. Therefore, the tables meet the requirements of BCNF."
   ]
  },
  {
   "cell_type": "markdown",
   "metadata": {},
   "source": [
    "\\+ Explanation of chase test, decomp:\n",
    "\n",
    "Due to the use of unique identifiers for each relation, we can break down any relation $R$ with $n$ attributes $(A_1,...,A_n)$ into $n-1$ relations $R_1,...,R_n$ of the form $R_i(Rid, A_i)$ where $Rid$ denotes the unique ID."
   ]
  },
  {
   "cell_type": "markdown",
   "metadata": {},
   "source": [
    "### 2. Complex queries"
   ]
  },
  {
   "cell_type": "markdown",
   "metadata": {},
   "source": [
    "- Go over selection of examples from class; include relational algebra which describes each operation"
   ]
  },
  {
   "cell_type": "markdown",
   "metadata": {},
   "source": [
    "- [ ] Lossless joins\n",
    "- [ ] Relational algebra; express constraints in terms of relational algebra"
   ]
  }
 ],
 "metadata": {
  "language_info": {
   "name": "python"
  }
 },
 "nbformat": 4,
 "nbformat_minor": 2
}
