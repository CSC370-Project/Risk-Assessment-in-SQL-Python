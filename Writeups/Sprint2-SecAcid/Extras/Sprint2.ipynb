{
 "cells": [
  {
   "cell_type": "markdown",
   "metadata": {},
   "source": [
    "# Sprint 2 - Basic Security, Acid transactions"
   ]
  },
  {
   "cell_type": "markdown",
   "metadata": {},
   "source": [
    "## TODO:"
   ]
  },
  {
   "cell_type": "markdown",
   "metadata": {},
   "source": [
    "### Begin CLI (low priority)"
   ]
  },
  {
   "cell_type": "markdown",
   "metadata": {},
   "source": [
    "\\+ NOTE: WORK ON THE UVIC CS SERVER"
   ]
  },
  {
   "cell_type": "markdown",
   "metadata": {
    "vscode": {
     "languageId": "plaintext"
    }
   },
   "source": [
    "- Difficult to do allocation at this time, since program is nonexistent\n",
    "- For *this* sprint, attempt to get the beginning of a working program, i.e. command line interface\n",
    "  - Generates sql database\n",
    "  - Asks for tickers\n",
    "  - Get data for tickers from yf\n",
    "  - Populate database with stock data\n",
    "- *Next* sprint, we will make another module which creates the allocation."
   ]
  },
  {
   "cell_type": "markdown",
   "metadata": {},
   "source": [
    "Important:\n",
    "- Write down exactly what commands were run to create sql server\n",
    "  - These need to be in the readme so that the user can access the program\n",
    "  - Probably the user will have to create their own server; including step-by-step in hte readme will be good practice and allow the program to be universally usable\n",
    "  - Add functionality so that program asks for username, password, database name and sets corresponding variables in main.py"
   ]
  },
  {
   "cell_type": "markdown",
   "metadata": {},
   "source": [
    "### Course work"
   ]
  },
  {
   "cell_type": "markdown",
   "metadata": {},
   "source": [
    "#### Last week:"
   ]
  },
  {
   "cell_type": "markdown",
   "metadata": {},
   "source": [
    "- [ ] Complex sql queries with relational algebra"
   ]
  },
  {
   "cell_type": "markdown",
   "metadata": {},
   "source": [
    "#### This week:"
   ]
  },
  {
   "cell_type": "markdown",
   "metadata": {},
   "source": [
    "- [x] Sub-queries\n",
    "- [x] Using indexes\n",
    "- [ ] Basic security; managing access (integrate into CLI/db setup)\n",
    "- [ ] Understanding views"
   ]
  },
  {
   "cell_type": "markdown",
   "metadata": {},
   "source": [
    "### Work"
   ]
  },
  {
   "cell_type": "markdown",
   "metadata": {},
   "source": [
    "#### Andrew"
   ]
  },
  {
   "cell_type": "markdown",
   "metadata": {},
   "source": [
    "- [ ] Get fetch data.py to output correct file; populate 'stock' and 'history'"
   ]
  },
  {
   "cell_type": "markdown",
   "metadata": {},
   "source": [
    "#### Evan"
   ]
  },
  {
   "cell_type": "markdown",
   "metadata": {},
   "source": [
    "- [ ] Edit main file to produce desired behavior; populate 'session' and 'portfolio'\n",
    "- [ ] Catch-up notes: Complex sql, security\n",
    "- [ ] Ask about theoreticlal justification"
   ]
  },
  {
   "cell_type": "markdown",
   "metadata": {},
   "source": [
    "# Notes: Security"
   ]
  },
  {
   "cell_type": "markdown",
   "metadata": {},
   "source": [
    "- Should be setting up permissions immediately, 'user' defined as someone accessing DB through the CLI\n",
    "\n",
    "- Idea:\n",
    "  - Code which creates database requires some kind of keyword or user change in order to run db commands\n",
    "  - DB commands will NOT be run through command lineCode which creates database requires some kind of keyword or user change in order to run db commands\n",
    "  - Make DB initialization so that the user is given next to no privileges off the bat - must switch to a "
   ]
  },
  {
   "cell_type": "markdown",
   "metadata": {},
   "source": [
    "## CLI design"
   ]
  },
  {
   "cell_type": "markdown",
   "metadata": {},
   "source": [
    "What does it need to do?\n",
    "- [ ] Sign in to a premade database \n",
    "  - See if there's a possibility of automated setup"
   ]
  },
  {
   "cell_type": "markdown",
   "metadata": {},
   "source": [
    "GetHistory.py"
   ]
  },
  {
   "cell_type": "markdown",
   "metadata": {},
   "source": [
    "import yfinance as yf\n",
    "from datetime import datetime, timedelta\n",
    "\n",
    "# Function to fetch stock history\n",
    "def get_history(ticker, start_date, end_date):\n",
    "    try:\n",
    "        # Fetch stock history for the past week\n",
    "        stock = yf.Ticker(ticker)\n",
    "        hist = stock.history(start=start_date, end=end_date)\n",
    "        \n",
    "        # Extract relevant data (date and price)\n",
    "        history_data = []\n",
    "        for date, row in hist.iterrows():\n",
    "            history_data.append((ticker, date.strftime('%Y-%m-%d'), row['Close']))\n",
    "        \n",
    "        return history_data\n",
    "    except Exception as e:\n",
    "        print(f\"Error fetching history for {ticker}: {e}\")\n",
    "        return []\n",
    "\n",
    "def main(tickers=\"\"):\n",
    "    if not tickers:\n",
    "        tickers = input(\"Enter the stock ticker symbols (separated by commas): \")\n",
    "\n",
    "    tickers = tickers.split(',')\n",
    "\n",
    "    # Get current date and date one week ago\n",
    "    end_date = datetime.now()\n",
    "    start_date = end_date - timedelta(days=365)\n",
    "\n",
    "    # Initialize history_id counter\n",
    "    history_id = 1\n",
    "\n",
    "    # List to hold the fetched data\n",
    "    history_data_list = []\n",
    "\n",
    "    # Fetch and store stock history data for each ticker symbol\n",
    "    for ticker in tickers:\n",
    "        ticker = ticker.strip()\n",
    "        history_data = get_history(ticker, start_date.strftime('%Y-%m-%d'), end_date.strftime('%Y-%m-%d'))\n",
    "        for data in history_data:\n",
    "            history_data_list.append((history_id,) + data)\n",
    "            history_id += 1\n",
    "\n",
    "    # Prepare the SQL insert statements\n",
    "    insert_statements = []\n",
    "    for data in history_data_list:\n",
    "        hid, ticker, date, price = data\n",
    "        insert_statement = f\"INSERT INTO history (historyID, Ticker, Date, Price) VALUES ({hid}, '{ticker}', '{date}', {price});\"\n",
    "        insert_statements.append(insert_statement)\n",
    "\n",
    "    # Combine all insert statements into a single string\n",
    "    sql_insert_statements = \"\\n\".join(insert_statements)\n",
    "\n",
    "    # Save the SQL insert statements to a file\n",
    "    with open(\"insert_history_statements.sql\", \"w\") as file:\n",
    "        file.write(sql_insert_statements)\n",
    "\n",
    "    return sql_insert_statements\n",
    "\n",
    "# Example usage\n",
    "if __name__ == \"__main__\":\n",
    "    tickers = \"AAPL, MSFT, GOOGL\"\n",
    "    print(main(tickers))\n"
   ]
  },
  {
   "cell_type": "markdown",
   "metadata": {
    "vscode": {
     "languageId": "plaintext"
    }
   },
   "source": [
    "GetStock.py"
   ]
  },
  {
   "cell_type": "code",
   "execution_count": null,
   "metadata": {
    "vscode": {
     "languageId": "plaintext"
    }
   },
   "outputs": [],
   "source": [
    "import yfinance as yf\n",
    "\n",
    "# Function to fetch stock data\n",
    "def get_stock(ticker, stock_id):\n",
    "    try:\n",
    "        # Create a Ticker object for the specified ticker\n",
    "        stock = yf.Ticker(ticker)\n",
    "        \n",
    "        # Fetch stock info with safe default values\n",
    "        stock_info = stock.info\n",
    "        symbol = stock_info.get('symbol', ticker)  # Default to the input ticker if 'symbol' is not available\n",
    "        sector = stock_info.get('sector', 'Unknown')  # Default to 'Unknown' if 'sector' is not available\n",
    "        price = stock_info.get('regularMarketPreviousClose', 0.0)  # Default to 0.0 if 'regularMarketPreviousClose' is not available\n",
    "        sd = stock_info.get('beta', 0.0)  # Default to 0.0 if 'beta' is not available\n",
    "        eret = round((stock_info.get('forwardEps', 0.0) / price) * 100, 3)  # Default to 0.0 if 'forwardEps' is not available\n",
    "        \n",
    "        return stock_id, symbol, sector, price, sd, eret\n",
    "    except Exception as e:\n",
    "        print(f\"Error fetching data for {ticker}: {e}\")\n",
    "        return stock_id, None, None, None, None, None\n",
    "\n",
    "def main(tickers = \"\"):\n",
    "    if tickers == \"\":\n",
    "        tickers = input(\"Enter the stock ticker symbols (separated by commas): \").split(',')\n",
    "\n",
    "    tickers = tickers.split(',')\n",
    "\n",
    "    # Initialize stock_id counter\n",
    "    stock_id = 1\n",
    "\n",
    "    # List to hold the fetched data\n",
    "    stock_data_list = []\n",
    "\n",
    "    # Fetch and store stock data for each ticker symbol\n",
    "    for ticker in tickers:\n",
    "        ticker = ticker.strip()  # Remove any leading/trailing whitespace\n",
    "        stock_data = get_stock(ticker, stock_id)\n",
    "        if stock_data[1]:  # Check if symbol is not None\n",
    "            stock_data_list.append(stock_data)\n",
    "        stock_id += 1\n",
    "\n",
    "    # Prepare the SQL insert statements\n",
    "    insert_statements = []\n",
    "    for data in stock_data_list:\n",
    "        stock_id, symbol, sector, price, sd, eret = data\n",
    "        insert_statement = f\"INSERT INTO stocks (StockID, Ticker, Sector, Price, SD, ERet) VALUES ({stock_id}, '{symbol}', '{sector}', {price}, {sd}, {eret});\"\n",
    "        insert_statements.append(insert_statement)\n",
    "\n",
    "    # Combine all insert statements into a single string\n",
    "    sql_insert_statements = \"\\n\".join(insert_statements)\n",
    "\n",
    "    # Save the SQL insert statements to a file\n",
    "    # with open(\"insert_statements.sql\", \"w\") as file:\n",
    "    #     file.write(sql_insert_statements)\n",
    "\n",
    "    \n",
    "    return sql_insert_statements\n",
    "\n",
    "# if __name__ == \"__main__\":\n",
    "#     tickers = input(\"Enter the stock ticker symbols (separated by commas): \").split(',')\n",
    "#     main(tickers)\n"
   ]
  },
  {
   "cell_type": "code",
   "execution_count": null,
   "metadata": {
    "vscode": {
     "languageId": "plaintext"
    }
   },
   "outputs": [],
   "source": []
  },
  {
   "cell_type": "markdown",
   "metadata": {},
   "source": [
    "### Course level competencies: Data analytics"
   ]
  },
  {
   "cell_type": "markdown",
   "metadata": {},
   "source": [
    "Complete:\n",
    "- Level 1\n",
    "- (L2, 1) Expresses complex logic as single SQL queries using aggregation and sub-queries\n",
    "- (L2, 2) Understands how functional dependencies and referential integrity affect the semantics of queries\n",
    "- (L2, 3) Describes the logical ordering of operators in complex queries that involve nested logic\n",
    "\n",
    "Moving forwards:\n",
    "- (L2, 4) Plans out how to transform data from relations into a desired output layout as in standard OLAP/ETL operators\n",
    "- (L2, 5) Prefers embedding complex logic into RDBMS over handling it in application-layer code"
   ]
  },
  {
   "cell_type": "code",
   "execution_count": null,
   "metadata": {
    "vscode": {
     "languageId": "plaintext"
    }
   },
   "outputs": [],
   "source": []
  },
  {
   "cell_type": "markdown",
   "metadata": {},
   "source": [
    "## Goals from previous sprint"
   ]
  },
  {
   "cell_type": "markdown",
   "metadata": {},
   "source": [
    "### Data analytics"
   ]
  },
  {
   "cell_type": "markdown",
   "metadata": {},
   "source": [
    "Attempt to \n",
    "- (2), (4) Perform various complex sql queries with relational operators, including JOIN operations, next sprint"
   ]
  },
  {
   "cell_type": "markdown",
   "metadata": {},
   "source": [
    "### Data Modelling"
   ]
  },
  {
   "cell_type": "markdown",
   "metadata": {},
   "source": [
    "Attempt to (level 2)\n",
    "- (3) Begin theoretical justification: Uncertain about the level of justification required, this is a question for instructor/TA\n",
    "- (5) Internalize (perhaps outline) merits of the relational data model (?)"
   ]
  },
  {
   "cell_type": "markdown",
   "metadata": {},
   "source": [
    "### Back-end engineering"
   ]
  },
  {
   "cell_type": "markdown",
   "metadata": {},
   "source": [
    "Attempt to:\n",
    "- Understand what is expected for level 1, use this understanding to inform the upcoming sprint"
   ]
  },
  {
   "cell_type": "markdown",
   "metadata": {},
   "source": [
    "### Summary"
   ]
  },
  {
   "cell_type": "markdown",
   "metadata": {},
   "source": [
    "- Complex sql queries with relational algebra\n",
    "- Ask about theoretical justification \n",
    "- Begin to implement back-end engineering principles that are covered in the coming weeks"
   ]
  }
 ],
 "metadata": {
  "language_info": {
   "name": "python"
  }
 },
 "nbformat": 4,
 "nbformat_minor": 2
}
