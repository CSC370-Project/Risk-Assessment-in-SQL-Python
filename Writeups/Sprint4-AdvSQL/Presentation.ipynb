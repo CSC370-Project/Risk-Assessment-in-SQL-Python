{
 "cells": [
  {
   "cell_type": "markdown",
   "metadata": {},
   "source": [
    "# Sprint 4"
   ]
  },
  {
   "cell_type": "markdown",
   "metadata": {},
   "source": [
    "## Pt.1"
   ]
  },
  {
   "cell_type": "markdown",
   "metadata": {},
   "source": [
    "#### Third Normal Form:"
   ]
  },
  {
   "cell_type": "markdown",
   "metadata": {},
   "source": [
    "2. **It has no transitive dependencies**:\n",
    "    - This means that no non-key attribute should depend on another non-key attribute. In other words, for any functional dependency \\( A -> B \\) (where \\( A \\) and \\( B \\) are sets of attributes), one of the following must be true:\n",
    "        - \\( A \\) is a superkey, or\n",
    "        - \\( B \\) is a prime attribute (an attribute that is part of a candidate key).\n"
   ]
  },
  {
   "cell_type": "markdown",
   "metadata": {},
   "source": [
    "##### Main Tables Review\n",
    "\n",
    "**Session Table**\n",
    "- **Primary Key:** `SessionID`\n",
    "- **3NF Status:** Already in 3NF (no non-key attributes).\n",
    "\n",
    "**Portfolio Table**\n",
    "- **Primary Key:** `PortfolioID`\n",
    "- **Non-key Attributes:** `TotalAmt`, `Risk`\n",
    "- **3NF Status:** Each non-key attribute depends only on the primary key. No transitive dependencies.\n",
    "\n",
    "**Allocation Table**\n",
    "- **Primary Key:** `AllocID`\n",
    "- **Non-key Attributes:** `Ticker`, `Amount`\n",
    "- **3NF Status:** Each non-key attribute depends only on the primary key. No transitive dependencies.\n",
    "\n",
    "**Stocks Table**\n",
    "- **Primary Key:** `StockID`\n",
    "- **Non-key Attributes:** `Ticker`, `Sector`, `Price`, `SD`, `ERet`\n",
    "- **3NF Status:** Each non-key attribute depends only on the primary key. No transitive dependencies.\n",
    "\n",
    "**History Table**\n",
    "- **Primary Key:** `HistoryID`\n",
    "- **Non-key Attributes:** `Ticker`, `Date`, `Price`\n",
    "- **3NF Status:** Each non-key attribute depends only on the primary key. No transitive dependencies.\n",
    "\n",
    "#### Relationship Tables Review\n",
    "\n",
    "**PortfolioHasStock Table**\n",
    "- **Composite Primary Key:** `PortfolioID`, `StockID`\n",
    "- **3NF Status:** No non-key attributes. Composite key uniquely identifies each row.\n",
    "\n",
    "**AllocationHasStock Table**\n",
    "- **Composite Primary Key:** `AllocID`, `StockID`\n",
    "- **3NF Status:** No non-key attributes. Composite key uniquely identifies each row.\n",
    "\n",
    "**StockHasHistory Table**\n",
    "- **Composite Primary Key:** `StockID`, `HistoryID`\n",
    "- **3NF Status:** No non-key attributes. Composite key uniquely identifies each row.\n",
    "\n",
    "**SessionHasPortfolio Table**\n",
    "- **Composite Primary Key:** `SessionID`, `PortfolioID`\n",
    "- **3NF Status:** No non-key attributes. Composite key uniquely identifies each row.\n",
    "\n",
    "**PortfolioHasAllocation Table**\n",
    "- **Composite Primary Key:** `PortfolioID`, `AllocID`\n",
    "- **3NF Status:** No non-key attributes. Composite key uniquely identifies each row.\n",
    "\n",
    "#### Conclusion\n",
    "The given schema appears to already be in 3NF. Each table's non-key attributes are dependent on the whole primary key, and there are no transitive dependencies.\n"
   ]
  },
  {
   "cell_type": "markdown",
   "metadata": {},
   "source": [
    "##### Fourth Normal Form"
   ]
  },
  {
   "cell_type": "markdown",
   "metadata": {},
   "source": [
    "2. **It has no non-trivial multi-valued dependencies**:\n",
    "    - A multi-valued dependency \\( A ->> B \\) exists if for each value of \\( A \\), there is a set of values for \\( B \\) that are independent of other attributes.\n",
    "    - A multi-valued dependency \\( A ->> B \\) is non-trivial if \\( B \\) is not a subset of \\( A \\) and \\( A \\cup B \\) is not the whole set of attributes of the relation.\n",
    "    - For any non-trivial multi-valued dependency \\( A ->> B \\), \\( A \\) must be a superkey.\n"
   ]
  },
  {
   "cell_type": "markdown",
   "metadata": {},
   "source": [
    "#### Applying 4NF Decomposition Verification to the Schema\n",
    "\n",
    "1. **Check for 4NF Violations**:\n",
    "   - Reviewed each table and their dependencies.\n",
    "   - No non-trivial multi-valued dependencies (MVDs) found where the left-hand side is not a superkey.\n",
    "\n",
    "2. **Return Relation R**:\n",
    "   - Since no 4NF violations were found in step 1, we conclude that the original schema \\( R \\) is in 4th Normal Form (4NF).\n",
    "\n",
    "#### Conclusion\n",
    "\n",
    "Based on the analysis and application of the 4NF decomposition algorithm, the schema does not have any violations of 4NF. Therefore, the original schema is confirmed to be in Fourth Normal Form (4NF) already. There is no need for further decomposition or normalization adjustments based on 4NF principles.\n"
   ]
  },
  {
   "cell_type": "markdown",
   "metadata": {},
   "source": [
    "### Check Constraints and Triggers\n",
    "\n",
    "#### Usage\n",
    "- Check Constraints: Used to enforce domain integrity by specifying conditions that must be true for data to be inserted or updated in a table.\n",
    "- Triggers: Used to automatically perform actions (such as updating other tables or enforcing business rules) in response to data modification events (like INSERT, UPDATE, DELETE).\n",
    "\n",
    "#### Check Constraints Examples\n",
    "\n",
    "#### Ensuring Non-Negative Amount in Allocation Table\n",
    "\n",
    "```sql\n",
    "ALTER TABLE Allocation\n",
    "MODIFY COLUMN Amount FLOAT NOT NULL CHECK (Amount >= 0);\n",
    "```\n",
    "- Purpose: Ensures that the Amount column in the Allocation table cannot be negative.\n",
    "\n",
    "#### Price Check in Stocks Table\n",
    "\n",
    "```sql\n",
    "ALTER TABLE Stocks\n",
    "ADD CHECK (Price >= 0);\n",
    "```\n",
    "- Purpose: Ensures that the Price of a stock in the Stocks table is always non-negative.\n",
    "\n",
    "#### Trigger Examples\n",
    "\n",
    "#### Update Stock Price History\n",
    "\n",
    "```sql\n",
    "CREATE TRIGGER update_history\n",
    "AFTER UPDATE ON Stocks\n",
    "FOR EACH ROW\n",
    "BEGIN\n",
    "    INSERT INTO History (Ticker, Date, Price)\n",
    "    VALUES (OLD.Ticker, CURDATE(), NEW.Price);\n",
    "END;\n",
    "```\n",
    "- Purpose: Automatically updates the History table with the new price of a stock whenever its Price is updated in the Stocks table.\n",
    "\n",
    "#### Track Portfolio Changes\n",
    "\n",
    "```sql\n",
    "CREATE TRIGGER track_portfolio_changes\n",
    "AFTER INSERT ON PortfolioHasStock\n",
    "FOR EACH ROW\n",
    "BEGIN\n",
    "    INSERT INTO PortfolioHasAllocation (PortfolioID, AllocID)\n",
    "    VALUES (NEW.PortfolioID, (SELECT AllocID FROM Allocation WHERE Ticker = (SELECT Ticker FROM Stocks WHERE StockID = NEW.StockID)));\n",
    "END;\n",
    "```\n",
    "- Purpose: Automatically tracks changes in the PortfolioHasStock relationship by updating the PortfolioHasAllocation table based on the stocks added to a portfolio.\n"
   ]
  },
  {
   "cell_type": "markdown",
   "metadata": {},
   "source": [
    "### NULL Values\n",
    "\n",
    "#### Boolean Operations with NULL Values\n",
    "- Logical Operations: Demonstrate how NULL values influence AND, OR, NOT, and XOR operations in SQL queries using truth tables.\n",
    "\n",
    "#### Joins and Outer Joins\n",
    "- Inner Joins: Analyze SQL queries that use inner joins to retrieve data from tables containing NULL values.\n",
    "\n",
    "- Left Outer Joins: Explore scenarios where left outer joins are used to include all records from one table (LEFT) and matching records from a second table (RIGHT) with potential NULL values.\n",
    "\n",
    "#### Constraints and NULL Handling\n",
    "- Check Constraints: Apply check constraints to restrict the insertion of NULL values into specific columns.\n",
    "\n",
    "#### Error Handling and Data Integrity\n",
    "- Data Integrity Constraints: Investigate scenarios where data integrity constraints (e.g., foreign keys) enforce relationships between tables, considering the presence of NULL values.\n",
    "\n",
    "#### Example Scenarios\n",
    "\n",
    "- Inserting New Portfolio with Optional Risk\n",
    "- When inserting a new portfolio into Portfolio, if the Risk field is not known initially, it could be inserted as NULL.\n",
    "```sql\n",
    "INSERT INTO Portfolio (PortfolioID, TotalAmt, Risk)\n",
    "VALUES (1, 10000.0, NULL);\n",
    "```\n",
    "\n",
    "- Assigning Stocks to Portfolios\n",
    "- If a portfolio does not currently hold any stocks, its entry in PortfolioHasStock might initially contain NULL values for StockID.\n",
    "```sql\n",
    "INSERT INTO PortfolioHasStock (PortfolioID, StockID)\n",
    "VALUES (1, NULL);\n",
    "```\n",
    "\n",
    "- Querying with Outer Joins\n",
    "- To find portfolios and their associated stocks, including those without any assigned stocks, an outer join can be used to include NULL StockID.\n",
    "```sql\n",
    "SELECT P.PortfolioID, S.StockID\n",
    "FROM Portfolio P\n",
    "LEFT JOIN PortfolioHasStock PS ON P.PortfolioID = PS.PortfolioID\n",
    "LEFT JOIN Stocks S ON PS.StockID = S.StockID;\n",
    "\n",
    "```\n",
    "\n",
    "#### Conclusion\n",
    "Understanding NULL values is crucial for database management, as they provide a mechanism to represent missing or undefined data. Mastering their behavior in SQL queries and their implications on data integrity ensures efficient and accurate database operations."
   ]
  },
  {
   "cell_type": "markdown",
   "metadata": {},
   "source": [
    "### Testing SQL\n",
    "\n",
    "Designing an input domain model involves identifying various input scenarios and conditions that need to be tested to ensure comprehensive coverage of the schema. Here’s how you can approach designing an input domain model for the schema provided:\n",
    "\n",
    "#### Input Domain Model Example\n",
    "\n",
    "Session Table:\n",
    "\n",
    "- Insert valid session IDs.\n",
    "- Verify constraints for primary keys.\n",
    "\n",
    "Portfolio Table:\n",
    "\n",
    "- Test various amounts (TotalAmt) and risk levels (Risk).\n",
    "- Verify constraints for primary keys and null values.\n",
    "    \n",
    "Allocation Table:\n",
    "\n",
    "- Test different ticker symbols (Ticker) and amounts (Amount).\n",
    "- Check constraints for primary keys and null values.\n",
    "\n",
    "Stocks Table:\n",
    "\n",
    "- Insert stocks with various attributes (Ticker, Sector, Price, SD, ERet).\n",
    "- Verify constraints for primary keys and null values.\n",
    "\n",
    "History Table:\n",
    "\n",
    "- Test historical data entries with valid dates (Date) and prices (Price).\n",
    "- Verify constraints for primary keys and null values.\n",
    "\n",
    "Relationship Tables (PortfolioHasStock, AllocationHasStock, etc.):\n",
    "\n",
    "- Test scenarios involving relationships between tables (e.g., linking portfolios with stocks, allocations with stocks).\n",
    "- Verify constraints for foreign keys and null values.\n",
    "\n",
    "#### Conclusion\n",
    "Designing an input domain model helps in identifying suitable unit tests by systematically covering various scenarios and conditions within the database schema. This approach ensures comprehensive test coverage, including boundary conditions, error handling, and integration scenarios, thus validating the robustness and correctness of the database schema and its operations."
   ]
  },
  {
   "cell_type": "markdown",
   "metadata": {},
   "source": [
    "### Simplifying Queries"
   ]
  },
  {
   "cell_type": "markdown",
   "metadata": {},
   "source": [
    "#### Original Complex SQL Code\n",
    "\n",
    "```sql\n",
    "SELECT * FROM (\n",
    "    SELECT *\n",
    "    FROM Stocks\n",
    "    WHERE Sector = 'Technology'\n",
    ")\n",
    "WHERE Price > 100;\n",
    "```\n",
    "\n",
    "#### Relational Algebra \n",
    "\n",
    "1. Subquery\n",
    "\n",
    "$$\n",
    "\\begin{aligned}\n",
    "\\sigma_{\\text{Sector} = \\text{'Technology'}} (\\text{Stocks})\n",
    "\\end{aligned}\n",
    "$$\n",
    "\n",
    "2. Outer query \n",
    "\n",
    "$$\n",
    "\\begin{aligned}\n",
    "\\sigma_{\\text{Price} > 100}( \\sigma_{\\text{Sector} = \\text{'Technology'}} (\\text{Stocks}))\n",
    "\\end{aligned}\n",
    "$$\n",
    "\n",
    "#### Simplified Code\n",
    "\n",
    "```sql\n",
    "SELECT *\n",
    "FROM Stocks\n",
    "WHERE Sector = 'Technology' AND Price > 100;\n",
    "\n",
    "```\n",
    "\n",
    "#### Relational Algebra\n",
    "\n",
    "$$\n",
    "\\begin{aligned}\n",
    "\\sigma_{\\text{Sector} = \\text{'Technology'} \\land \\text{Price} > 100} (\\text{Stocks})\n",
    "\\end{aligned}\n",
    "$$\n",
    "\n",
    "#### Explanation\n",
    "\n",
    "1. Original Complex SQL Code\n",
    "    - The subquery filters the Stocks relation to only those tuples where the Sector is 'Technology'.\n",
    "    - The outer query applies an additional selection on the result of the subquery to filter those tuples where the Price is greater than 100\n",
    "2. Simplified SQL Code\n",
    "    - The simplified query directly applies both conditions in a single selection operation, represented as \n",
    "\n",
    "\n",
    "#### Original Complex Code\n",
    "\n",
    "```sql\n",
    "SELECT * FROM\n",
    "(    \n",
    "    SELECT * FROM Stocks\n",
    "    WHERE Sector = 'Technology'\n",
    ")\n",
    "NATURAL JOIN\n",
    "(   \n",
    "    SELECT * FROM Stocks\n",
    "    WHERE Price > 100\n",
    ");\n",
    "\n",
    "```\n",
    "\n",
    "$$\n",
    "\\begin{aligned}\n",
    "\\sigma_{\\text{Sector} = \\text{'Technology'}} (\\text{Stocks}) \\bowtie \\sigma_{\\text{Price} > 100} (\\text{Stocks}) \\\\\n",
    "\\end{aligned}\n",
    "$$\n",
    "\n",
    "\n",
    "#### Simplified Code \n",
    "\n",
    "```sql\n",
    "SELECT *\n",
    "FROM Stocks\n",
    "WHERE Sector = 'Technology'\n",
    "  AND Price > 100;\n",
    "\n",
    "```\n",
    "\n",
    "$$\n",
    "\\begin{aligned}\n",
    "\\sigma_{\\text{Sector} = \\text{'Technology'} \\land \\text{Price} > 100} (\\text{Stocks})\n",
    "\\end{aligned}\n",
    "$$\n",
    "\n",
    "\n",
    "#### Explanation\n",
    "\n",
    "- The original query selects from Stocks where Sector is 'Technology' in one subquery and where Price is greater than 100 in another.\n",
    "- The simplified query combines these conditions in a single SELECT statement with AND conditions."
   ]
  },
  {
   "cell_type": "markdown",
   "metadata": {},
   "source": [
    "## Pt.2"
   ]
  },
  {
   "cell_type": "markdown",
   "metadata": {},
   "source": [
    "### Summary: Last sprint's goals"
   ]
  },
  {
   "cell_type": "markdown",
   "metadata": {},
   "source": [
    "-  (Analytics, L4) Optimize SQL queries to map onto more efficient physical operators\n",
    "-  (Modelling, L3) Apply advanced ERD constructs/normalization methods \n",
    "-  (Engineering, L2) Ensure DB can be used in concurrent, multi-user environment"
   ]
  },
  {
   "cell_type": "markdown",
   "metadata": {},
   "source": [
    "Also: Views, as recommended by TA"
   ]
  },
  {
   "cell_type": "markdown",
   "metadata": {
    "vscode": {
     "languageId": "plaintext"
    }
   },
   "source": [
    "### Resulting changes to [`portef`](https://github.com/CSC370-Project/portef)"
   ]
  },
  {
   "cell_type": "markdown",
   "metadata": {},
   "source": [
    "Note: All changes documented in portefV1-5 in [main project repo](https://github.com/CSC370-Project/Risk-Assessment-in-SQL-Python) or in [gh commits](https://github.com/CSC370-Project/portef/commits/main)"
   ]
  },
  {
   "cell_type": "markdown",
   "metadata": {},
   "source": [
    "#### 1. **Logic changes**"
   ]
  },
  {
   "cell_type": "code",
   "execution_count": 9,
   "metadata": {},
   "outputs": [
    {
     "data": {
      "image/png": "[encoded data removed]",
      "text/plain": [
       "<IPython.core.display.Image object>"
      ]
     },
     "metadata": {},
     "output_type": "display_data"
    }
   ],
   "source": [
    "from graphviz import Digraph\n",
    "from IPython.display import display, Image\n",
    "\n",
    "# Create a new directed graph for the combined output\n",
    "dot = Digraph(comment='Program Logic Comparison')\n",
    "\n",
    "# Set graph attributes for black background and white text/lines\n",
    "dot.attr(bgcolor='black')\n",
    "dot.attr('node', style='filled', fillcolor='black', fontcolor='white', color='white', shape='box')\n",
    "dot.attr('edge', color='white', fontcolor='white')\n",
    "\n",
    "# Define subgraph for Sprint 3\n",
    "with dot.subgraph(name='cluster_sprint3') as sprint3:\n",
    "    sprint3.attr(label='Sprint 3', color='white')\n",
    "    sprint3.node('A', 'main()')\n",
    "    sprint3.node('B', 'connect_to_database()')\n",
    "    sprint3.node('C', 'db_setup(connection, cursor)')\n",
    "    sprint3.node('D', 'get_stock(connection, cursor, tickers)')\n",
    "    sprint3.node('E', 'calculate_efficient_frontier(cursor, risk_level, total_amount)')\n",
    "    sprint3.node('F', 'store_efficient_frontier(connection, cursor, ef_data, total_amount, risk_level)')\n",
    "    sprint3.node('G', 'close_connection(connection, cursor)')\n",
    "    sprint3.edge('A', 'B', ' Connect to DB (1)')\n",
    "    sprint3.edge('B', 'C', ' Setup DB (2)')\n",
    "    sprint3.edge('C', 'D', ' Fetch Stock Data (3)')\n",
    "    sprint3.edge('D', 'E', ' Calculate Efficient Frontier (4)')\n",
    "    sprint3.edge('E', 'F', ' Store Efficient Frontier (5)')\n",
    "    sprint3.edge('F', 'G', ' Close DB Connection (6)')\n",
    "\n",
    "# Define subgraph for Sprint 4\n",
    "with dot.subgraph(name='cluster_sprint4') as sprint4:\n",
    "    sprint4.attr(label='Sprint 4', color='white')\n",
    "    sprint4.node('Aa', 'main()')\n",
    "    sprint4.node('Bb', 'connect_to_database()')\n",
    "    sprint4.node('Cc', 'create_session_tables(connection, cursor, session_id)')\n",
    "    sprint4.node('Dd', 'get_stock(connection, cursor, tickers, session_id)')\n",
    "    sprint4.node('Ee', 'fetch_data(connection, session_id)')\n",
    "    sprint4.node('Ff', 'calculate_efficient_frontier(data)')\n",
    "    sprint4.node('Gg', 'store_allocation(connection, cursor, weights_record, results, df, session_id)')\n",
    "    sprint4.node('Hh', 'fetch_allocation_data(connection, session_id)')\n",
    "    sprint4.node('Ii', 'print_allocation_data(allocation_df, output_file)')\n",
    "    sprint4.node('Jj', 'cleanup_session_tables(connection, cursor, session_id)')\n",
    "    sprint4.node('Kk', 'close_connection(connection, cursor)')\n",
    "    sprint4.edge('Aa', 'Bb', ' Connect to DB (1)')\n",
    "    sprint4.edge('Bb', 'Cc', ' Setup Session Tables (2)')\n",
    "    sprint4.edge('Cc', 'Dd', ' Fetch Stock Data (3)')\n",
    "    sprint4.edge('Dd', 'Ee', ' Fetch Data (4)')\n",
    "    sprint4.edge('Ee', 'Ff', ' Calculate Efficient Frontier (5)')\n",
    "    sprint4.edge('Ff', 'Gg', ' Store Allocation (6)')\n",
    "    sprint4.edge('Gg', 'Hh', ' Fetch Allocation Data (7)')\n",
    "    sprint4.edge('Hh', 'Ii', ' Print Allocation Data (8)')\n",
    "    sprint4.edge('Ii', 'Jj', ' Cleanup Session Tables (9)')\n",
    "    sprint4.edge('Jj', 'Kk', ' Close DB Connection (10)')\n",
    "\n",
    "# Render the graph to a file and display it\n",
    "dot.render('program_logic_comparison', format='png')\n",
    "display(Image(filename='program_logic_comparison.png'))\n"
   ]
  },
  {
   "cell_type": "markdown",
   "metadata": {},
   "source": [
    "#### 2. **Implementation changes**"
   ]
  },
  {
   "cell_type": "markdown",
   "metadata": {},
   "source": [
    "##### Ticker handling & capitalization"
   ]
  },
  {
   "cell_type": "markdown",
   "metadata": {},
   "source": [
    "- Ensures program does not run with invalid tickers\n",
    "- Capitalization does not affect performance, but keeps table output consistent"
   ]
  },
  {
   "cell_type": "markdown",
   "metadata": {},
   "source": [
    "##### Views"
   ]
  },
  {
   "cell_type": "markdown",
   "metadata": {},
   "source": [
    "- Implemented in place of `JOIN` and `Allocation` data extraction\n",
    "- Saves space & time (performance)"
   ]
  },
  {
   "cell_type": "markdown",
   "metadata": {},
   "source": [
    "##### Constraints"
   ]
  },
  {
   "cell_type": "markdown",
   "metadata": {},
   "source": [
    "- Basic: Amounts, SD's should not be negative\n",
    "- More can be added, questioning necessity"
   ]
  },
  {
   "cell_type": "markdown",
   "metadata": {},
   "source": [
    "##### UUID"
   ]
  },
  {
   "cell_type": "markdown",
   "metadata": {},
   "source": [
    "- Generates unique session ID each time program is run \n",
    "- Links all tables in a session: Isolated operations\n",
    "- Allows for multiple users"
   ]
  },
  {
   "cell_type": "markdown",
   "metadata": {},
   "source": [
    "##### EF output & storage"
   ]
  },
  {
   "cell_type": "markdown",
   "metadata": {},
   "source": [
    "- Outputs the efficient frontier to the command line\n",
    "- Optionally stores in a file, useful due to program design"
   ]
  },
  {
   "cell_type": "markdown",
   "metadata": {},
   "source": [
    "##### Database cleanup"
   ]
  },
  {
   "cell_type": "markdown",
   "metadata": {},
   "source": [
    "- Deletes all tables in a session once session is ended or upon error\n",
    "- Useful for space saving (and debugging!)"
   ]
  },
  {
   "cell_type": "markdown",
   "metadata": {},
   "source": [
    "## 3. Course level competencies"
   ]
  },
  {
   "cell_type": "markdown",
   "metadata": {},
   "source": [
    "### Summary: Last sprint's goals"
   ]
  },
  {
   "cell_type": "markdown",
   "metadata": {},
   "source": [
    "-  (Analytics, L4) Optimize SQL queries to map onto more efficient physical operators\n",
    "-  (Modelling, L3) Apply advanced ERD constructs/normalization methods \n",
    "-  (Engineering, L2) Ensure DB can be used in concurrent, multi-user environment"
   ]
  },
  {
   "cell_type": "markdown",
   "metadata": {},
   "source": [
    "### **Data analytics**"
   ]
  },
  {
   "cell_type": "markdown",
   "metadata": {},
   "source": [
    "#### Previous goals"
   ]
  },
  {
   "cell_type": "markdown",
   "metadata": {},
   "source": [
    "- Ensure program continues to conform to level 3\n",
    "- Refine program according to level 4 (as covered in class)"
   ]
  },
  {
   "cell_type": "markdown",
   "metadata": {},
   "source": [
    "#### Moving forwards"
   ]
  },
  {
   "cell_type": "markdown",
   "metadata": {},
   "source": [
    "- Adjust final project to conform to L4, i.e. asymptotic complexity, necessity of temp tables"
   ]
  },
  {
   "cell_type": "markdown",
   "metadata": {},
   "source": [
    "### **Data Modelling**"
   ]
  },
  {
   "cell_type": "markdown",
   "metadata": {},
   "source": [
    "#### Previous goals"
   ]
  },
  {
   "cell_type": "markdown",
   "metadata": {},
   "source": [
    "Still lots to do in level 3:\n",
    "- Continue to work through & consider level 3 topics\n",
    "- Include thoughts in next sprint on more conceptual topics such as\n",
    "  - (2) Incongruity between conceptual/relational schemata\n",
    "  - (5) Evaluation strengths & weaknesses of schema w conceptual framework\n",
    "  - (6) Considering impact of NULL values & inheritance on functional dependencies"
   ]
  },
  {
   "cell_type": "markdown",
   "metadata": {},
   "source": [
    "#### Moving Forwards"
   ]
  },
  {
   "cell_type": "markdown",
   "metadata": {},
   "source": [
    "- Did cover most of L3\n",
    "- L3 and L4 should be a major conceptual focus in our final presentation, esp. L4 i.e.\n",
    "  - (1) Changing data source\n",
    "  - (2) Ethics, data privacy\n",
    "  - ...\n",
    "  - (5) Simplicity!"
   ]
  },
  {
   "cell_type": "markdown",
   "metadata": {},
   "source": [
    "### **Back-end engineering**"
   ]
  },
  {
   "cell_type": "markdown",
   "metadata": {},
   "source": [
    "#### Previous goals:"
   ]
  },
  {
   "cell_type": "markdown",
   "metadata": {},
   "source": [
    "- Level 2 may require adjusting the database to be usable by multiple people\n",
    "- While this was considered in the design, it will have to be brought up with the prof or a TA considering we are working with local servers"
   ]
  },
  {
   "cell_type": "markdown",
   "metadata": {},
   "source": [
    "#### Moving forwards:"
   ]
  },
  {
   "cell_type": "markdown",
   "metadata": {},
   "source": [
    "- Final goal: Get the program running on a server\n",
    "  - AWS EC2 server set up and ready to go!\n",
    "  - Will require extra care and focus on L3 due to fact of running a public application, i.e.\n",
    "    - Stored procedures\n",
    "    - SQL injection protection\n",
    "    - Interfaces\n",
    "    - RAII connections\n",
    "    - etc.\n",
    "- If unable to implement goal, describe *exactly* why, what challenges came up, how they could be handled according to L3 guidelines"
   ]
  },
  {
   "cell_type": "markdown",
   "metadata": {},
   "source": [
    "#### Summary:"
   ]
  },
  {
   "cell_type": "markdown",
   "metadata": {},
   "source": [
    "Prepare project for final presentation!"
   ]
  }
 ],
 "metadata": {
  "kernelspec": {
   "display_name": ".venv",
   "language": "python",
   "name": "python3"
  },
  "language_info": {
   "codemirror_mode": {
    "name": "ipython",
    "version": 3
   },
   "file_extension": ".py",
   "mimetype": "text/x-python",
   "name": "python",
   "nbconvert_exporter": "python",
   "pygments_lexer": "ipython3",
   "version": "3.12.4"
  }
 },
 "nbformat": 4,
 "nbformat_minor": 2
}
