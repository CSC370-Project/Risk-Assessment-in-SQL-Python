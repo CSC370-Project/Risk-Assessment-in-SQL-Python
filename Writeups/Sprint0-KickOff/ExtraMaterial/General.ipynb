{
 "cells": [
  {
   "cell_type": "markdown",
   "metadata": {},
   "source": [
    "# General project info"
   ]
  },
  {
   "cell_type": "markdown",
   "metadata": {},
   "source": [
    "Due May 19th, 8:00PM"
   ]
  },
  {
   "cell_type": "markdown",
   "metadata": {},
   "source": [
    "## ToDo (Pt.0)"
   ]
  },
  {
   "cell_type": "markdown",
   "metadata": {},
   "source": [
    "- [x] Create project repo\n",
    "- [ ] Check w prof about data sourcing\n",
    "- [ ] Define list of requirements for project\n",
    "  - [ ] Make them based on competency as described in slides! (Add later)"
   ]
  },
  {
   "cell_type": "markdown",
   "metadata": {},
   "source": [
    "### Wednesday:\n",
    "- [ ] Figure out application & business requirements\n",
    "- [ ] Formalize project idea"
   ]
  },
  {
   "cell_type": "markdown",
   "metadata": {},
   "source": [
    "## Hand in:"
   ]
  },
  {
   "cell_type": "markdown",
   "metadata": {},
   "source": [
    "- [ ] Git Link\n",
    "- [ ] Commit hash\n",
    "  - Ask prof: 40 or 7 char hash req'd?\n",
    "- [ ] Video\n",
    "  - Length (so far): 5 mins"
   ]
  },
  {
   "cell_type": "markdown",
   "metadata": {},
   "source": [
    "\\+ **Getting the git hash: 2 methods**\n",
    "1. `$ git log`\n",
    "   - Hash is next to 'commit'\n",
    "2. Github\n",
    "   - Navigate to 'commits' in repo\n",
    "   - Hash on far right"
   ]
  },
  {
   "cell_type": "markdown",
   "metadata": {},
   "source": [
    "## Next Sprint:"
   ]
  },
  {
   "cell_type": "markdown",
   "metadata": {},
   "source": [
    "- [ ] Source/decide on risk equations\n",
    "- [ ] Test out data sourcing YFinance on uvic CSC server"
   ]
  },
  {
   "cell_type": "markdown",
   "metadata": {},
   "source": [
    "\\+ Potential source: [YFinance](https://pypi.org/project/yfinance/)"
   ]
  },
  {
   "cell_type": "markdown",
   "metadata": {},
   "source": [
    "## Sprint Outline"
   ]
  },
  {
   "cell_type": "markdown",
   "metadata": {},
   "source": [
    "### **kick-off assignment**"
   ]
  },
  {
   "cell_type": "markdown",
   "metadata": {},
   "source": [
    "- set up your team of up to four students \n",
    "- figure out your initial project direction\n",
    "- get some no-stakes familiarity with the grading rubric\n",
    "- and become connected with your TA-client. \n",
    "- provide video-based progress report\n",
    "\n",
    "- provide evidence that you have achieved the goals that you set two weeks ago (not necessarily required)\n",
    "\n",
    "- plan out what you'll do in the next two week sprint. \n",
    "- you have to show somehow how this development plan also aligns with the pretty clearly stated competencies in the course outline and covered in the previous two weeks of classes\n",
    "- explicitly connect it to the course in a way that, ultimately, your TA-client finds convincing"
   ]
  },
  {
   "cell_type": "markdown",
   "metadata": {},
   "source": [
    "### **Goals:**"
   ]
  },
  {
   "cell_type": "markdown",
   "metadata": {},
   "source": [
    "1. Show that you can define application and business requirements (Data Architecture competency)\n",
    "  - Clear list of initial requirements\n",
    "2. Show how you have identified an interesting project that has the ability to cover many modules of the course. You have in mind a number of ways to increase complexity to meet more challenging learning objectives and you have in mind some way of obtaining or generating useful data."
   ]
  },
  {
   "cell_type": "markdown",
   "metadata": {},
   "source": [
    "## Rubrick"
   ]
  },
  {
   "cell_type": "markdown",
   "metadata": {},
   "source": [
    "Here is the image converted into a markdown table:\n",
    "\n",
    "| | Exceptional (A+) <br> 100 points | Outstanding (A+) <br> 90 points | Excellent (A-) <br> 85 points | Very Good (B+) <br> 75 points | Solid (B-) <br> 70 points | Satisfactory (C) <br> 60 points |\n",
    "|--:|:--|:--|:--|:--|:--|:--|\n",
    "| [Delivery] <br> Evidence for <br> achievement <br> of sprint <br> goals | Clearly recaps <br> every goal from <br> this sprint plan <br> and demos some <br> type of evidence <br> that each goal has <br> been met, <br> including those <br> goals set by the <br> teaching team; <br> stands up to <br> independent <br> testing by <br> teaching team | Clear mapping <br> between demos <br> or some other <br> type of evidence <br> and a reasonably <br> large percentage <br> of sprint goals; <br> evidence stands <br> up to <br> independent <br> testing by <br> teaching team | Clear contrast <br> between previous <br> sprint and current <br> sprint <br> demonstrates <br> good progress <br> towards course- <br> level goals; <br> teaching team is <br> convinced that <br> significant <br> progress was <br> made on project, <br> even if several <br> goals were <br> missed | Many goals are <br> met and <br> convincing <br> evidence is <br> provided in <br> support of this | All goals that are <br> met (even if the <br> number of them <br> are limited) are <br> demonstrated <br> with convincing <br> evidence | Teaching team is <br> convinced that <br> significant <br> progress was <br> made on project, <br> even if many <br> goals were <br> missed; perhaps <br> evidence of goal <br> achievement is <br> somewhat <br> lacking? |\n",
    "| [Delivery] <br> Justification <br> for missed <br> sprint goals | Convincing <br> achievement of <br> all goals for this <br> sprint, including <br> those proposed <br> by the teaching <br> team | Only missed non- <br> critical goals; <br> convincing <br> explanations that <br> missed technical <br> goals did not <br> hinder overall <br> achievement of <br> learning goals; all <br> missed goals <br> explained by <br> technical <br> challenges that <br> are attributable <br> to limited scope <br> of the course to <br> date | All missed goals <br> explained by <br> technical <br> challenges that <br> are attributable <br> to limited scope <br> of the course to <br> date; evidence of <br> progress towards <br> learning goals, <br> even if there is <br> insufficient <br> evidence to <br> demonstrate goals <br> met | All missed goals <br> explained by <br> technical <br> challenges; <br> significant <br> progress on <br> learning goals; <br> some minor <br> disagreement <br> from teaching <br> team on whether <br> goals were met but <br> arguments are <br> borderline | Progress is <br> consistent with <br> team velocity and <br> missed goals <br> relate perhaps to <br> excess ambition <br> in previous <br> sprints; phase or <br> disagreement <br> from the teaching <br> team that the <br> goals were <br> sufficiently met; <br> missed goals do <br> not detract from <br> scope of next <br> sprint | Some goals met <br> and some <br> evidence of <br> progress on <br> learning <br> objectives; <br> missed goals <br> have reasonable <br> explanations, <br> such as technical <br> challenges. |"
   ]
  },
  {
   "cell_type": "markdown",
   "metadata": {},
   "source": [
    "| | Exceptional (A+) <br> 100 points | Outstanding (A-) <br> 90 points | Excellent (A-) <br> 80 points | Very Good (B+) <br> 75 points | Solid (B-) <br> 70 points | Satisfactory (C) <br> 60 points |\n",
    "|--:|:--|:--|:--|:--|:--|:--|\n",
    "| [Planning] <br> Improvement <br> wrt course- <br> level <br> competencies | Plan for next <br> sprint explicitly <br> demonstrates a <br> current limitation <br> of the project <br> with respect to <br> course-level <br> competencies <br> and a plan to <br> develop <br> measurable; <br> examples of how <br> achievement of <br> these goals can <br> be objectively <br> measured at the <br> end of the sprint <br> are presented | Plan for next <br> sprint explicitly <br> covers <br> development of <br> course-level <br> competencies <br> from the previous <br> evaluation/sprint <br> period; evaluation <br> criteria for the <br> end of the sprint <br> are presented, <br> though they may <br> be somewhat <br> subjective | Plan for next <br> sprint explicitly <br> covers <br> development of <br> course-level <br> competencies <br> from the previous <br> evaluation/sprint <br> period; success <br> criteria are <br> identified | Plan for next <br> sprint explicitly <br> covers <br> development of <br> course-level <br> competencies <br> from the previous <br> evaluation/sprint <br> period | Plan for next <br> sprint presents a <br> reasonable path <br> of development <br> for the project <br> and the project <br> team | Plan for next <br> sprint implicitly <br> connects to <br> competencies <br> from the previous <br> evaluation/sprint <br> period, though it <br> may be hard to <br> establish the <br> exact relationship <br> between tasks/ <br> goals and learning <br> objectives |\n",
    "| [Planning] <br> Coverage of <br> next sprint <br> plan with <br> newly <br> covered <br> module <br> competencies | Plan for next <br> sprint explicitly <br> covers <br> development of <br> all module-level <br> competencies <br> from the previous <br> evaluation/sprint <br> period; examples <br> of how <br> achievement of <br> these goals can <br> be objectively <br> measured at the <br> end of the sprint <br> are presented, <br> though they may <br> be somewhat <br> subjective | Plan for next <br> sprint explicitly <br> covers <br> development of <br> all competencies <br> from the previous <br> evaluation/sprint <br> period; evaluation <br> criteria for the <br> end of the sprint <br> are presented | Plan for next <br> sprint explicitly <br> covers <br> development of <br> all competencies <br> from the previous <br> evaluation/sprint <br> period; success <br> criteria are <br> identified | Plan for next <br> sprint explicitly <br> covers <br> development of <br> all competencies <br> from the previous <br> evaluation/sprint <br> period | Plan for next <br> sprint presents a <br> reasonable path <br> of development <br> for the project <br> and the project <br> team | Plan for next <br> sprint implicitly <br> connects to <br> competencies <br> from the previous <br> evaluation/sprint <br> period, though it <br> may be hard to <br> establish the <br> exact relationship <br> between tasks/ <br> goals and learning <br> objectives |"
   ]
  },
  {
   "cell_type": "markdown",
   "metadata": {},
   "source": [
    "### Application & Business req's"
   ]
  },
  {
   "cell_type": "markdown",
   "metadata": {},
   "source": [
    "\"To evaluate this, you will show a clear list of initial requirements and compare that to the (empty) list you had before the course began\"\n",
    "\n",
    "- Git setup. How might this be useful for the project and for further applications\n",
    "- Clear idea of project. Gameplan to show we can kickstart a project on our own\n",
    "- How to achieve our goals consistently. When do we meet? how do we distribute the workload etc\n",
    "- Essential treat this is as if we are doing an actual project for a business, and we need to kickstart the project. "
   ]
  }
 ],
 "metadata": {
  "language_info": {
   "name": "python"
  }
 },
 "nbformat": 4,
 "nbformat_minor": 2
}
