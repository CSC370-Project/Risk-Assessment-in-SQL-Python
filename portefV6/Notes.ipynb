{
 "cells": [
  {
   "cell_type": "markdown",
   "metadata": {},
   "source": [
    "# Notes for final project changes"
   ]
  },
  {
   "cell_type": "markdown",
   "metadata": {},
   "source": [
    "- Clean up all python code!\n",
    "- Creation of allocation table or view potentially redundant thus denormalized (violates minimality), i.e.\n",
    "  - Can view be made without alloc table\n",
    "  - Is there any point in creating a view from the table and displaying view vs. not creating a view & displaying table?\n",
    "- Constraints: ``CONSTRAINT `name` CHECK (condition on attribute)``"
   ]
  }
 ],
 "metadata": {
  "language_info": {
   "name": "python"
  }
 },
 "nbformat": 4,
 "nbformat_minor": 2
}
