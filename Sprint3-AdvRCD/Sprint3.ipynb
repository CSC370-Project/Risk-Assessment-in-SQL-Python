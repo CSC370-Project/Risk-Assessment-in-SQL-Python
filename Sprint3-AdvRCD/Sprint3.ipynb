{
 "cells": [
  {
   "cell_type": "markdown",
   "metadata": {},
   "source": [
    "# Sprint 3: Advanced Relational/Conceptual design"
   ]
  },
  {
   "cell_type": "markdown",
   "metadata": {},
   "source": [
    "## ToDo:"
   ]
  },
  {
   "cell_type": "markdown",
   "metadata": {},
   "source": [
    "- Attempt to automate user setup etc.\n",
    "- Recommended db setup (ACID)\n",
    "  - Change SQL code to transactions, i.e. if db update fails (i.e. YF call) NOTHING should be executed\n",
    "- Add logging to db\n",
    "  - Checkpoints at each 'stage' of db, i.e.\n",
    "    1. Loading YF data\n",
    "    2. EF production (might need sub-stages)"
   ]
  }
 ],
 "metadata": {
  "language_info": {
   "name": "python"
  }
 },
 "nbformat": 4,
 "nbformat_minor": 2
}
