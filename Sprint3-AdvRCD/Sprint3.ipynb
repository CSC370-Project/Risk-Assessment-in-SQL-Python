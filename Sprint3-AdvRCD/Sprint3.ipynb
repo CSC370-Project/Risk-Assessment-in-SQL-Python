{
 "cells": [
  {
   "cell_type": "markdown",
   "metadata": {},
   "source": [
    "# Sprint 3: Advanced Relational/Conceptual design"
   ]
  },
  {
   "cell_type": "markdown",
   "metadata": {},
   "source": [
    "## ToDo:"
   ]
  },
  {
   "cell_type": "markdown",
   "metadata": {},
   "source": [
    "- Attempt to automate user setup etc.\n",
    "- [ ] Recommended db setup (ACID)\n",
    "  - [x] Change SQL code to transactions, i.e. if db update fails (i.e. YF call) NOTHING should be executed\n",
    "  - [ ] Implement isolation?(Waiting on answer from prof)\n",
    "  - [x] Add logging to db"
   ]
  },
  {
   "cell_type": "markdown",
   "metadata": {},
   "source": [
    "Wed:\n",
    "- [ ] Clean up the file for presentation\n",
    "- [ ] Advanced conceptual design/relational design explanation"
   ]
  },
  {
   "cell_type": "markdown",
   "metadata": {},
   "source": [
    "## 4. Course level competencies"
   ]
  },
  {
   "cell_type": "markdown",
   "metadata": {},
   "source": [
    "### Data analytics"
   ]
  },
  {
   "cell_type": "markdown",
   "metadata": {},
   "source": [
    "#### Previous goals"
   ]
  },
  {
   "cell_type": "markdown",
   "metadata": {},
   "source": [
    "- (L2, 2, 4) Perform various complex sql queries with relational operators, including JOIN operations"
   ]
  },
  {
   "cell_type": "markdown",
   "metadata": {},
   "source": [
    "#### Moving forwards"
   ]
  },
  {
   "cell_type": "markdown",
   "metadata": {},
   "source": [
    "- Level 1 complete\n",
    "- Level 2 complete except:\n",
    "  - (4) Plans out how to transform data from relations into a desired output layout as in standard OLAP/ETL operators\n",
    "- Level 3\n",
    "\n",
    "\n",
    "\\+ **Notes:**\n",
    "- (4) and level 3 will be relevant once we begin working on the efficient frontier, the output of our program\n",
    "- This is where more complex operations on large datasets will actually be used."
   ]
  },
  {
   "cell_type": "markdown",
   "metadata": {},
   "source": [
    "### Data Modelling"
   ]
  },
  {
   "cell_type": "markdown",
   "metadata": {},
   "source": [
    "#### Previous goals"
   ]
  },
  {
   "cell_type": "markdown",
   "metadata": {},
   "source": [
    "- (L2, 3) Begin theoretical justification\n",
    "- (L2, 5) Internalize merits of the relational data model"
   ]
  },
  {
   "cell_type": "markdown",
   "metadata": {},
   "source": [
    "#### Moving Forwards"
   ]
  },
  {
   "cell_type": "markdown",
   "metadata": {},
   "source": [
    "- Level 1, 2 complete\n",
    "- Level 3\n",
    "\n",
    "\\+ **Notes:**\n",
    "- Once again, level 3 becomes relevant during our implementation of the efficient frontier. \n",
    "- The descriptions contain vocabulary that either seem related to ACID transactions or things we've yet to cover in class, we will complete these as they come"
   ]
  },
  {
   "cell_type": "markdown",
   "metadata": {},
   "source": [
    "### Back-end engineering"
   ]
  },
  {
   "cell_type": "markdown",
   "metadata": {},
   "source": [
    "#### Previous goals:"
   ]
  },
  {
   "cell_type": "markdown",
   "metadata": {},
   "source": [
    "- Understand what is expected for level 1, use this understanding to inform the upcoming sprint"
   ]
  },
  {
   "cell_type": "markdown",
   "metadata": {},
   "source": [
    "#### Moving forwards:"
   ]
  },
  {
   "cell_type": "markdown",
   "metadata": {},
   "source": [
    "- Level 1\n",
    "\n",
    "\\+ Note:\n",
    "- Level 1 should be complete by the next sprint, all related to actual program implementation which is our overarching goal moving forwards"
   ]
  },
  {
   "cell_type": "markdown",
   "metadata": {},
   "source": [
    "#### Summary:"
   ]
  },
  {
   "cell_type": "markdown",
   "metadata": {},
   "source": [
    "- Data analytics, L3: Use a variety of SQL constructs and indexes to produce readable, efficient, idiomatic queries\n",
    "- Data modelling, L3: Apply advanced ERD constructs and normalisation methods to produce more natural schemata\n",
    "- Back end engineering, L1: Create conditions to ensure relational databases exhibit ACID behaviour"
   ]
  },
  {
   "cell_type": "markdown",
   "metadata": {},
   "source": [
    "# Project Changes\n"
   ]
  },
  {
   "cell_type": "markdown",
   "metadata": {},
   "source": [
    "## 1. Error handling & code cleanup"
   ]
  },
  {
   "cell_type": "markdown",
   "metadata": {},
   "source": [
    "- Try-except blocks around SQL execution statements, db connection\n",
    "- Comments for clarity"
   ]
  },
  {
   "cell_type": "markdown",
   "metadata": {},
   "source": [
    "## 2. Atomicity"
   ]
  },
  {
   "cell_type": "markdown",
   "metadata": {},
   "source": [
    "To make the SQL code conform to ACID properties, we need to ensure that both the creation of tables and the population of tables with data are handled within transactions. This will ensure atomicity, consistency, isolation, and durability.\n",
    "\n",
    "Here is how you can modify the provided code to use SQL transactions for both creating tables and populating them with data.\n",
    "\n",
    "### Modifying `db_setup.py` to Use Transactions for Table Creation\n",
    "\n",
    "First, let's modify the `db_setup.py` file to wrap the table creation statements in a transaction:\n",
    "\n",
    "```python\n",
    "import mysql.connector\n",
    "from mysql.connector import Error\n",
    "\n",
    "def db_setup(connection, cursor):\n",
    "    \"\"\"\n",
    "    Set up the database schema by executing SQL statements within a transaction.\n",
    "    \n",
    "    Parameters:\n",
    "    connection (MySQLConnection): MySQL connection object.\n",
    "    cursor (MySQLCursor): MySQL cursor object to execute SQL queries.\n",
    "    \"\"\"\n",
    "    sql_statements = [\n",
    "        \"DROP TABLE IF EXISTS `PortfolioHasAllocation`;\",\n",
    "        \"DROP TABLE IF EXISTS `PortfolioHasStock`;\",\n",
    "        \"DROP TABLE IF EXISTS `AllocationHasStock`;\",\n",
    "        \"DROP TABLE IF EXISTS `StockHasHistory`;\",\n",
    "        \"DROP TABLE IF EXISTS `SessionHasPortfolio`;\",\n",
    "        \"DROP TABLE IF EXISTS `Session`;\",\n",
    "        \"DROP TABLE IF EXISTS `Portfolio`;\",\n",
    "        \"DROP TABLE IF EXISTS `Allocation`;\",\n",
    "        \"DROP TABLE IF EXISTS `Stocks`;\",\n",
    "        \"DROP TABLE IF EXISTS `History`;\",\n",
    "        \"CREATE TABLE `Session` (`SessionID` INT PRIMARY KEY);\",\n",
    "        \"CREATE TABLE `Portfolio` (`PortfolioID` INT PRIMARY KEY, `TotalAmt` FLOAT, `Risk` VARCHAR(64));\",\n",
    "        \"CREATE TABLE `Allocation` (`AllocID` INT PRIMARY KEY, `Ticker` VARCHAR(10), `Amount` FLOAT);\",\n",
    "        \"CREATE TABLE `Stocks` (`StockID` INT PRIMARY KEY, `Ticker` VARCHAR(10), `Sector` VARCHAR(64), `Price` FLOAT, `SD` FLOAT, `ERet` FLOAT);\",\n",
    "        \"CREATE TABLE `History` (`HistoryID` INT PRIMARY KEY, `Ticker` VARCHAR(10), `Date` VARCHAR(10), `Price` FLOAT);\",\n",
    "        \"CREATE TABLE `PortfolioHasStock` (`PortfolioID` INT, `StockID` INT, FOREIGN KEY (`PortfolioID`) REFERENCES `Portfolio`(`PortfolioID`), FOREIGN KEY (`StockID`) REFERENCES `Stocks`(`StockID`), PRIMARY KEY (`PortfolioID`, `StockID`));\",\n",
    "        \"CREATE TABLE `AllocationHasStock` (`AllocID` INT, `StockID` INT, FOREIGN KEY (`AllocID`) REFERENCES `Allocation`(`AllocID`), FOREIGN KEY (`StockID`) REFERENCES `Stocks`(`StockID`), PRIMARY KEY (`AllocID`, `StockID`));\",\n",
    "        \"CREATE TABLE `StockHasHistory` (`StockID` INT, `HistoryID` INT, FOREIGN KEY (`StockID`) REFERENCES `Stocks`(`StockID`), FOREIGN KEY (`HistoryID`) REFERENCES `History`(`HistoryID`), PRIMARY KEY (`StockID`, `HistoryID`));\",\n",
    "        \"CREATE TABLE `SessionHasPortfolio` (`SessionID` INT, `PortfolioID` INT, FOREIGN KEY (`SessionID`) REFERENCES `Session`(`SessionID`), FOREIGN KEY (`PortfolioID`) REFERENCES `Portfolio`(`PortfolioID`), PRIMARY KEY (`SessionID`, `PortfolioID`));\",\n",
    "        \"CREATE TABLE `PortfolioHasAllocation` (`PortfolioID` INT, `AllocID` INT, FOREIGN KEY (`PortfolioID`) REFERENCES `Portfolio`(`PortfolioID`), FOREIGN KEY (`AllocID`) REFERENCES `Allocation`(`AllocID`), PRIMARY KEY (`PortfolioID`, `AllocID`));\"\n",
    "    ]\n",
    "\n",
    "    try:\n",
    "        connection.start_transaction()\n",
    "        for sql_statement in sql_statements:\n",
    "            cursor.execute(sql_statement)\n",
    "        connection.commit()\n",
    "        print(\"SQL script executed successfully.\")\n",
    "    except Error as e:\n",
    "        connection.rollback()\n",
    "        print(f\"Error executing SQL script: {e}\")\n",
    "```\n",
    "\n",
    "### Modifying `get_sh.py` to Use Transactions for Data Population\n",
    "\n",
    "Next, let's modify the `get_sh.py` file to wrap the data population statements in a transaction:\n",
    "\n",
    "```python\n",
    "import yfinance as yf\n",
    "from datetime import datetime, timedelta\n",
    "\n",
    "def yf_getH(cursor, ticker, stock_id):\n",
    "    \"\"\"\n",
    "    Fetch historical stock data for the given ticker and insert it into the database within a transaction.\n",
    "    \n",
    "    Parameters:\n",
    "    cursor (MySQLCursor): MySQL cursor object to execute SQL queries.\n",
    "    ticker (str): Stock ticker symbol.\n",
    "    stock_id (int): Unique stock identifier.\n",
    "    \"\"\"\n",
    "    end_date = datetime.now().strftime('%Y-%m-%d')\n",
    "    start_date = (datetime.now() - timedelta(days=365)).strftime('%Y-%m-%d')\n",
    "\n",
    "    try:\n",
    "        stock = yf.Ticker(ticker)\n",
    "        hist = stock.history(start=start_date, end=end_date)\n",
    "        cursor.connection.start_transaction()\n",
    "        for date, row in hist.iterrows():\n",
    "            sql = \"INSERT INTO History (HistoryID, Ticker, Date, Price) VALUES (%s, %s, %s, %s)\"\n",
    "            data = (stock_id, ticker, date.strftime('%Y-%m-%d'), row['Close'])\n",
    "            cursor.execute(sql, data)\n",
    "            print(f\"Inserted history data for {ticker} on {date.strftime('%Y-%m-%d')}\")\n",
    "            stock_id += 1\n",
    "        cursor.connection.commit()\n",
    "    except Exception as e:\n",
    "        cursor.connection.rollback()\n",
    "        print(f\"Error fetching or inserting history for {ticker}: {e}\")\n",
    "\n",
    "def yf_getS(cursor, ticker, stock_id):\n",
    "    \"\"\"\n",
    "    Fetch stock information for the given ticker and insert it into the database within a transaction.\n",
    "    \n",
    "    Parameters:\n",
    "    cursor (MySQLCursor): MySQL cursor object to execute SQL queries.\n",
    "    ticker (str): Stock ticker symbol.\n",
    "    stock_id (int): Unique stock identifier.\n",
    "    \"\"\"\n",
    "    try:\n",
    "        stock = yf.Ticker(ticker)\n",
    "        stock_info = stock.info\n",
    "        symbol = stock_info.get('symbol', ticker)\n",
    "        sector = stock_info.get('sector', 'Unknown')\n",
    "        price = stock_info.get('regularMarketPreviousClose', 0.0)\n",
    "        sd = stock_info.get('beta', 0.0)\n",
    "        eret = round((stock_info.get('forwardEps', 0.0) / price) * 100, 3)\n",
    "        \n",
    "        cursor.connection.start_transaction()\n",
    "        insert_statement = \"INSERT INTO Stocks (StockID, Ticker, Sector, Price, SD, ERet) VALUES (%s, %s, %s, %s, %s, %s)\"\n",
    "        data = (stock_id, symbol, sector, price, sd, eret)\n",
    "        cursor.execute(insert_statement, data)\n",
    "        cursor.connection.commit()\n",
    "        print(f\"Inserted data for {ticker}\")\n",
    "    except Exception as e:\n",
    "        cursor.connection.rollback()\n",
    "        print(f\"Error fetching or inserting data for {ticker}: {e}\")\n",
    "\n",
    "def get_stock(connection, cursor, tickers):\n",
    "    \"\"\"\n",
    "    Fetch and store stock data for a list of ticker symbols within a transaction.\n",
    "    \n",
    "    Parameters:\n",
    "    connection (MySQLConnection): MySQL connection object.\n",
    "    cursor (MySQLCursor): MySQL cursor object to execute SQL queries.\n",
    "    tickers (list): List of stock ticker symbols.\n",
    "    \"\"\"\n",
    "    stock_id = 1\n",
    "    try:\n",
    "        connection.start_transaction()\n",
    "        for ticker in tickers:\n",
    "            ticker = ticker.strip()\n",
    "            yf_getS(cursor, ticker, stock_id)\n",
    "            yf_getH(cursor, ticker, stock_id)\n",
    "            stock_id += 1000\n",
    "        connection.commit()\n",
    "    except Exception as e:\n",
    "        connection.rollback()\n",
    "        print(f\"Error fetching or inserting stock data: {e}\")\n",
    "```\n",
    "\n",
    "### Summary\n",
    "\n",
    "By wrapping the table creation and data population operations in transactions, we ensure that these operations are atomic, consistent, isolated, and durable. This approach helps maintain the integrity of the database even in the event of errors or failures.\n",
    "\n",
    "* The `db_setup.py` script now ensures that all table creation statements are executed within a single transaction.\n",
    "* The `get_sh.py` script ensures that data fetching and insertion operations for each stock are executed within transactions, and the overall process of fetching and storing stock data is also wrapped in a transaction.\n",
    "\n",
    "Citations:\n",
    "[1] https://ppl-ai-file-upload.s3.amazonaws.com/web/direct-files/22098966/4026eff2-ef75-4a18-b4a3-acd553b8cd14/connect.py\n",
    "[2] https://ppl-ai-file-upload.s3.amazonaws.com/web/direct-files/22098966/6cc1f0df-6f87-428e-b08b-f87acf9ab8f3/portef.py\n",
    "[3] https://ppl-ai-file-upload.s3.amazonaws.com/web/direct-files/22098966/8cace1f0-d268-4480-919d-a71c9d95562c/get_sh.py\n",
    "[4] https://ppl-ai-file-upload.s3.amazonaws.com/web/direct-files/22098966/ba14aa5e-eaf7-4dcd-a8d4-7c5eddc827eb/db_setup.py\n",
    "[5] https://www.mysqltutorial.org/mysql-stored-procedure/mysql-transactions/\n",
    "[6] https://www.tutorialspoint.com/mysql/mysql-transactions.htm\n",
    "[7] https://dev.mysql.com/doc/refman/8.4/en/atomic-ddl.html\n",
    "[8] https://www.freecodecamp.org/news/how-to-use-mysql-transactions/"
   ]
  },
  {
   "cell_type": "markdown",
   "metadata": {},
   "source": [
    "When the main program (CLI) encounters an error or requires a rollback, it handles these situations gracefully to maintain the integrity of the database operations. Here is a detailed explanation of how the program behaves in such scenarios, based on the provided code snippets:\n",
    "\n",
    "## Error Handling and Rollback Mechanisms\n",
    "\n",
    "### 1. Connection and Setup (`connect.py` and `db_setup.py`)\n",
    "\n",
    "The `connect.py` script is responsible for establishing a connection to the database. If an error occurs during the connection process, it catches the exception and prints an error message:\n",
    "\n",
    "```python\n",
    "try:\n",
    "    connection = mysql.connector.connect(\n",
    "        host=host,\n",
    "        user=username,\n",
    "        password=password,\n",
    "        database=database\n",
    "    )\n",
    "\n",
    "    if connection.is_connected():\n",
    "        print(f'Connected to MariaDB database {database} on {host}')\n",
    "        cursor = connection.cursor()\n",
    "        cursor.execute(\"SELECT VERSION()\")\n",
    "        db_version = cursor.fetchone()\n",
    "        print(f\"Database version: {db_version}\")\n",
    "        return connection, cursor\n",
    "\n",
    "except Error as e:\n",
    "    print(f\"Error connecting to MariaDB database: {e}\")\n",
    "    return None, None\n",
    "```\n",
    "\n",
    "### 2. Main Program (`portef.py`)\n",
    "\n",
    "The main program (`portef.py`) handles the overall workflow, including connecting to the database, setting up the schema, and fetching stock data. It uses a `try-except-finally` block to manage errors and ensure that resources are properly closed:\n",
    "\n",
    "```python\n",
    "def main():\n",
    "    connection, cursor = connect_to_database()\n",
    "    if connection:\n",
    "        try:\n",
    "            tickers_input = input(\"Enter the stock ticker symbols (separated by commas): \").strip()\n",
    "            if not tickers_input:\n",
    "                raise ValueError(\"Ticker symbols input cannot be empty.\")\n",
    "            tickers = tickers_input.split(',')\n",
    "\n",
    "            db_setup(connection, cursor)\n",
    "            get_stock(connection, cursor, tickers)\n",
    "\n",
    "        except ValueError as ve:\n",
    "            print(f\"Input error: {ve}\")\n",
    "\n",
    "        finally:\n",
    "            close_connection(connection, cursor)\n",
    "\n",
    "if __name__ == \"__main__\":\n",
    "    main()\n",
    "```\n",
    "\n",
    "### 3. Database Setup (`db_setup.py`)\n",
    "\n",
    "The `db_setup.py` script sets up the database schema. It uses a transaction to ensure atomicity. If an error occurs during the execution of SQL statements, it rolls back the transaction and prints an error message:\n",
    "\n",
    "```python\n",
    "def db_setup(connection, cursor):\n",
    "    sql_statements = [\n",
    "        # SQL statements for creating tables\n",
    "    ]\n",
    "\n",
    "    try:\n",
    "        connection.start_transaction()\n",
    "        for sql_statement in sql_statements:\n",
    "            cursor.execute(sql_statement)\n",
    "        connection.commit()\n",
    "        print(\"SQL script executed successfully.\")\n",
    "    except Error as e:\n",
    "        connection.rollback()\n",
    "        print(f\"Error executing SQL script: {e}\")\n",
    "```\n",
    "\n",
    "### 4. Data Population (`get_sh.py`)\n",
    "\n",
    "The `get_sh.py` script fetches and inserts stock data. It uses transactions to ensure that data insertion is atomic. If an error occurs, it rolls back the transaction and prints an error message:\n",
    "\n",
    "```python\n",
    "def yf_getH(cursor, ticker, stock_id):\n",
    "    try:\n",
    "        stock = yf.Ticker(ticker)\n",
    "        hist = stock.history(start=start_date, end=end_date)\n",
    "        cursor.connection.start_transaction()\n",
    "        for date, row in hist.iterrows():\n",
    "            sql = \"INSERT INTO History (HistoryID, Ticker, Date, Price) VALUES (%s, %s, %s, %s)\"\n",
    "            data = (stock_id, ticker, date.strftime('%Y-%m-%d'), row['Close'])\n",
    "            cursor.execute(sql, data)\n",
    "            print(f\"Inserted history data for {ticker} on {date.strftime('%Y-%m-%d')}\")\n",
    "            stock_id += 1\n",
    "        cursor.connection.commit()\n",
    "    except Exception as e:\n",
    "        cursor.connection.rollback()\n",
    "        print(f\"Error fetching or inserting history for {ticker}: {e}\")\n",
    "\n",
    "def yf_getS(cursor, ticker, stock_id):\n",
    "    try:\n",
    "        stock = yf.Ticker(ticker)\n",
    "        stock_info = stock.info\n",
    "        symbol = stock_info.get('symbol', ticker)\n",
    "        sector = stock_info.get('sector', 'Unknown')\n",
    "        price = stock_info.get('regularMarketPreviousClose', 0.0)\n",
    "        sd = stock_info.get('beta', 0.0)\n",
    "        eret = round((stock_info.get('forwardEps', 0.0) / price) * 100, 3)\n",
    "\n",
    "        cursor.connection.start_transaction()\n",
    "        insert_statement = \"INSERT INTO Stocks (StockID, Ticker, Sector, Price, SD, ERet) VALUES (%s, %s, %s, %s, %s, %s)\"\n",
    "        data = (stock_id, symbol, sector, price, sd, eret)\n",
    "        cursor.execute(insert_statement, data)\n",
    "        cursor.connection.commit()\n",
    "        print(f\"Inserted data for {ticker}\")\n",
    "    except Exception as e:\n",
    "        cursor.connection.rollback()\n",
    "        print(f\"Error fetching or inserting data for {ticker}: {e}\")\n",
    "\n",
    "def get_stock(connection, cursor, tickers):\n",
    "    stock_id = 1\n",
    "    try:\n",
    "        connection.start_transaction()\n",
    "        for ticker in tickers:\n",
    "            ticker = ticker.strip()\n",
    "            yf_getS(cursor, ticker, stock_id)\n",
    "            yf_getH(cursor, ticker, stock_id)\n",
    "            stock_id += 1000\n",
    "        connection.commit()\n",
    "    except Exception as e:\n",
    "        connection.rollback()\n",
    "        print(f\"Error fetching or inserting stock data: {e}\")\n",
    "```\n",
    "\n",
    "## Summary\n",
    "\n",
    "When the main program encounters an error or needs to perform a rollback:\n",
    "\n",
    "* **Connection Errors**: The program prints an error message and returns `None` for the connection and cursor.\n",
    "* **Input Errors**: The program catches `ValueError` exceptions, prints an error message, and proceeds to close the connection.\n",
    "* **SQL Execution Errors**: The program rolls back the transaction, prints an error message, and ensures that no partial changes are committed to the database.\n",
    "* **Data Insertion Errors**: Similar to SQL execution errors, the program rolls back the transaction and prints an error message.\n",
    "\n",
    "This approach ensures that the program maintains the integrity and consistency of the database by handling errors and rollbacks appropriately.\n",
    "\n",
    "Citations:\n",
    "[1] https://ppl-ai-file-upload.s3.amazonaws.com/web/direct-files/22098966/4026eff2-ef75-4a18-b4a3-acd553b8cd14/connect.py\n",
    "[2] https://ppl-ai-file-upload.s3.amazonaws.com/web/direct-files/22098966/6cc1f0df-6f87-428e-b08b-f87acf9ab8f3/portef.py\n",
    "[3] https://ppl-ai-file-upload.s3.amazonaws.com/web/direct-files/22098966/8cace1f0-d268-4480-919d-a71c9d95562c/get_sh.py\n",
    "[4] https://ppl-ai-file-upload.s3.amazonaws.com/web/direct-files/22098966/ba14aa5e-eaf7-4dcd-a8d4-7c5eddc827eb/db_setup.py"
   ]
  }
 ],
 "metadata": {
  "language_info": {
   "name": "python"
  }
 },
 "nbformat": 4,
 "nbformat_minor": 2
}
